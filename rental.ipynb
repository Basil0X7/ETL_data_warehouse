{
 "cells": [
  {
   "cell_type": "code",
   "id": "initial_id",
   "metadata": {
    "collapsed": true,
    "ExecuteTime": {
     "end_time": "2025-05-26T16:22:37.384692Z",
     "start_time": "2025-05-26T16:22:37.191020Z"
    }
   },
   "source": [
    "import pandas as pd;\n",
    "from sqlalchemy import create_engine\n",
    "import mysql.connector"
   ],
   "outputs": [],
   "execution_count": 5
  },
  {
   "metadata": {
    "ExecuteTime": {
     "end_time": "2025-05-26T16:22:44.413553Z",
     "start_time": "2025-05-26T16:22:44.399620Z"
    }
   },
   "cell_type": "code",
   "source": [
    "#step#1 connection string\n",
    "username='root'\n",
    "password='Basel00272727$'\n",
    "host='127.0.0.1'\n",
    "port='3306'\n",
    "databaseName='sakila'\n",
    "\n",
    "#connection string format\n",
    "connectionStr=f\"mysql+pymysql://{username}:{password}@{host}:{port}/{databaseName}\""
   ],
   "id": "c45be654252a0356",
   "outputs": [],
   "execution_count": 6
  },
  {
   "metadata": {
    "ExecuteTime": {
     "end_time": "2025-05-26T16:22:57.158494Z",
     "start_time": "2025-05-26T16:22:57.077902Z"
    }
   },
   "cell_type": "code",
   "source": "engine=create_engine(connectionStr)",
   "id": "21d79f6cd6bcd293",
   "outputs": [],
   "execution_count": 7
  },
  {
   "metadata": {
    "ExecuteTime": {
     "end_time": "2025-05-24T19:15:50.312741Z",
     "start_time": "2025-05-24T19:15:50.276163Z"
    }
   },
   "cell_type": "code",
   "source": "df = pd.read_csv('rental.csv')",
   "id": "71f93315304bc384",
   "outputs": [],
   "execution_count": 2
  },
  {
   "metadata": {
    "ExecuteTime": {
     "end_time": "2025-05-24T19:16:01.779582Z",
     "start_time": "2025-05-24T19:16:01.755767Z"
    }
   },
   "cell_type": "code",
   "source": "df.head()",
   "id": "a1fed6a50cf4c4d2",
   "outputs": [
    {
     "data": {
      "text/plain": [
       "   rental_id          rental_date  inventory_id  customer_id  \\\n",
       "0          1  2005-05-24 22:53:30           367          130   \n",
       "1          2  2005-05-24 22:54:33          1525          459   \n",
       "2          3  2005-05-24 23:03:39          1711          408   \n",
       "3          4  2005-05-24 23:04:41          2452          333   \n",
       "4          5  2005-05-24 23:05:21          2079          222   \n",
       "\n",
       "           return_date  staff_id          last_update  \n",
       "0  2005-05-26 22:04:30         1  2006-02-15 21:30:53  \n",
       "1  2005-05-28 19:40:33         1  2006-02-15 21:30:53  \n",
       "2  2005-06-01 22:12:39         1  2006-02-15 21:30:53  \n",
       "3  2005-06-03 01:43:41         2  2006-02-15 21:30:53  \n",
       "4  2005-06-02 04:33:21         1  2006-02-15 21:30:53  "
      ],
      "text/html": [
       "<div>\n",
       "<style scoped>\n",
       "    .dataframe tbody tr th:only-of-type {\n",
       "        vertical-align: middle;\n",
       "    }\n",
       "\n",
       "    .dataframe tbody tr th {\n",
       "        vertical-align: top;\n",
       "    }\n",
       "\n",
       "    .dataframe thead th {\n",
       "        text-align: right;\n",
       "    }\n",
       "</style>\n",
       "<table border=\"1\" class=\"dataframe\">\n",
       "  <thead>\n",
       "    <tr style=\"text-align: right;\">\n",
       "      <th></th>\n",
       "      <th>rental_id</th>\n",
       "      <th>rental_date</th>\n",
       "      <th>inventory_id</th>\n",
       "      <th>customer_id</th>\n",
       "      <th>return_date</th>\n",
       "      <th>staff_id</th>\n",
       "      <th>last_update</th>\n",
       "    </tr>\n",
       "  </thead>\n",
       "  <tbody>\n",
       "    <tr>\n",
       "      <th>0</th>\n",
       "      <td>1</td>\n",
       "      <td>2005-05-24 22:53:30</td>\n",
       "      <td>367</td>\n",
       "      <td>130</td>\n",
       "      <td>2005-05-26 22:04:30</td>\n",
       "      <td>1</td>\n",
       "      <td>2006-02-15 21:30:53</td>\n",
       "    </tr>\n",
       "    <tr>\n",
       "      <th>1</th>\n",
       "      <td>2</td>\n",
       "      <td>2005-05-24 22:54:33</td>\n",
       "      <td>1525</td>\n",
       "      <td>459</td>\n",
       "      <td>2005-05-28 19:40:33</td>\n",
       "      <td>1</td>\n",
       "      <td>2006-02-15 21:30:53</td>\n",
       "    </tr>\n",
       "    <tr>\n",
       "      <th>2</th>\n",
       "      <td>3</td>\n",
       "      <td>2005-05-24 23:03:39</td>\n",
       "      <td>1711</td>\n",
       "      <td>408</td>\n",
       "      <td>2005-06-01 22:12:39</td>\n",
       "      <td>1</td>\n",
       "      <td>2006-02-15 21:30:53</td>\n",
       "    </tr>\n",
       "    <tr>\n",
       "      <th>3</th>\n",
       "      <td>4</td>\n",
       "      <td>2005-05-24 23:04:41</td>\n",
       "      <td>2452</td>\n",
       "      <td>333</td>\n",
       "      <td>2005-06-03 01:43:41</td>\n",
       "      <td>2</td>\n",
       "      <td>2006-02-15 21:30:53</td>\n",
       "    </tr>\n",
       "    <tr>\n",
       "      <th>4</th>\n",
       "      <td>5</td>\n",
       "      <td>2005-05-24 23:05:21</td>\n",
       "      <td>2079</td>\n",
       "      <td>222</td>\n",
       "      <td>2005-06-02 04:33:21</td>\n",
       "      <td>1</td>\n",
       "      <td>2006-02-15 21:30:53</td>\n",
       "    </tr>\n",
       "  </tbody>\n",
       "</table>\n",
       "</div>"
      ]
     },
     "execution_count": 3,
     "metadata": {},
     "output_type": "execute_result"
    }
   ],
   "execution_count": 3
  },
  {
   "metadata": {
    "ExecuteTime": {
     "end_time": "2025-05-24T19:17:14.359046Z",
     "start_time": "2025-05-24T19:17:14.336281Z"
    }
   },
   "cell_type": "code",
   "source": "df.duplicated()",
   "id": "bd5e5e8c89eb8c4f",
   "outputs": [
    {
     "data": {
      "text/plain": [
       "0        False\n",
       "1        False\n",
       "2        False\n",
       "3        False\n",
       "4        False\n",
       "         ...  \n",
       "16039    False\n",
       "16040    False\n",
       "16041    False\n",
       "16042    False\n",
       "16043    False\n",
       "Length: 16044, dtype: bool"
      ]
     },
     "execution_count": 4,
     "metadata": {},
     "output_type": "execute_result"
    }
   ],
   "execution_count": 4
  },
  {
   "metadata": {
    "ExecuteTime": {
     "end_time": "2025-05-24T19:18:49.371488Z",
     "start_time": "2025-05-24T19:18:49.340373Z"
    }
   },
   "cell_type": "code",
   "source": [
    "df[df.duplicated()]\n",
    "df.drop_duplicates(inplace=True)"
   ],
   "id": "124d4d5acc2618d1",
   "outputs": [],
   "execution_count": 5
  },
  {
   "metadata": {
    "ExecuteTime": {
     "end_time": "2025-05-26T16:22:14.701238Z",
     "start_time": "2025-05-26T16:22:14.650226Z"
    }
   },
   "cell_type": "code",
   "source": [
    "import pandas as pd\n",
    "\n",
    "# 📂 تحميل البيانات من rental.csv\n",
    "df_raw = pd.read_csv('rental.csv')\n",
    "\n",
    "# 🧹 حذف الصفوف التي تفتقد أي من القيم المطلوبة (عدا last_update)\n",
    "columns_required = ['rental_id', 'rental_date', 'inventory_id', 'customer_id', 'return_date', 'staff_id']\n",
    "df = df_raw.dropna(subset=columns_required)\n",
    "\n",
    "# 🗑️ حذف التكرارات في العمود الأساسي rental_id (نأخذ أول ظهور فقط)\n",
    "df = df.drop_duplicates(subset=['rental_id'], keep='first')\n",
    "\n",
    "# 🧼 تحويل last_update الفارغة إلى None\n",
    "df['last_update'] = df['last_update'].where(pd.notnull(df['last_update']), None)\n",
    "\n",
    "# ✅ النتيجة المؤقتة بعد التنظيف\n",
    "print(df.head())\n"
   ],
   "id": "b1cedc5b672f5d86",
   "outputs": [
    {
     "name": "stdout",
     "output_type": "stream",
     "text": [
      "   rental_id          rental_date  inventory_id  customer_id  \\\n",
      "0          1  2005-05-24 22:53:30           367          130   \n",
      "1          2  2005-05-24 22:54:33          1525          459   \n",
      "2          3  2005-05-24 23:03:39          1711          408   \n",
      "3          4  2005-05-24 23:04:41          2452          333   \n",
      "4          5  2005-05-24 23:05:21          2079          222   \n",
      "\n",
      "           return_date  staff_id          last_update  \n",
      "0  2005-05-26 22:04:30         1  2006-02-15 21:30:53  \n",
      "1  2005-05-28 19:40:33         1  2006-02-15 21:30:53  \n",
      "2  2005-06-01 22:12:39         1  2006-02-15 21:30:53  \n",
      "3  2005-06-03 01:43:41         2  2006-02-15 21:30:53  \n",
      "4  2005-06-02 04:33:21         1  2006-02-15 21:30:53  \n"
     ]
    }
   ],
   "execution_count": 4
  },
  {
   "metadata": {
    "ExecuteTime": {
     "end_time": "2025-05-26T16:23:09.494710Z",
     "start_time": "2025-05-26T16:23:08.958586Z"
    }
   },
   "cell_type": "code",
   "source": "df.to_sql(name='dim_rent', con=engine, if_exists='append', index=False)",
   "id": "b0b8753d5b2d187d",
   "outputs": [
    {
     "data": {
      "text/plain": [
       "15861"
      ]
     },
     "execution_count": 8,
     "metadata": {},
     "output_type": "execute_result"
    }
   ],
   "execution_count": 8
  },
  {
   "metadata": {},
   "cell_type": "code",
   "outputs": [],
   "execution_count": null,
   "source": "",
   "id": "90dafe42282bd190"
  }
 ],
 "metadata": {
  "kernelspec": {
   "display_name": "Python 3",
   "language": "python",
   "name": "python3"
  },
  "language_info": {
   "codemirror_mode": {
    "name": "ipython",
    "version": 2
   },
   "file_extension": ".py",
   "mimetype": "text/x-python",
   "name": "python",
   "nbconvert_exporter": "python",
   "pygments_lexer": "ipython2",
   "version": "2.7.6"
  }
 },
 "nbformat": 4,
 "nbformat_minor": 5
}

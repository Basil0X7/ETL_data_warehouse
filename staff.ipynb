{
 "cells": [
  {
   "cell_type": "code",
   "id": "initial_id",
   "metadata": {
    "collapsed": true,
    "ExecuteTime": {
     "end_time": "2025-05-27T08:40:39.753146Z",
     "start_time": "2025-05-27T08:40:39.278062Z"
    }
   },
   "source": [
    "import pandas as pd;\n",
    "from sqlalchemy import create_engine\n",
    "import mysql.connector"
   ],
   "outputs": [],
   "execution_count": 2
  },
  {
   "metadata": {
    "ExecuteTime": {
     "end_time": "2025-05-27T08:51:53.330214Z",
     "start_time": "2025-05-27T08:51:53.310714Z"
    }
   },
   "cell_type": "code",
   "source": [
    "#step#1 connection string\n",
    "username='root'\n",
    "password='Basel00272727$'\n",
    "host='127.0.0.1'\n",
    "port='3306'\n",
    "databaseName='sakila'\n",
    "\n",
    "#connection string format\n",
    "connectionStr=f\"mysql+pymysql://{username}:{password}@{host}:{port}/{databaseName}\""
   ],
   "id": "e37c1281a935f676",
   "outputs": [],
   "execution_count": 15
  },
  {
   "metadata": {
    "ExecuteTime": {
     "end_time": "2025-05-27T08:51:53.884259Z",
     "start_time": "2025-05-27T08:51:53.870496Z"
    }
   },
   "cell_type": "code",
   "source": "engine=create_engine(connectionStr)",
   "id": "f0c6b064a85e84a8",
   "outputs": [],
   "execution_count": 16
  },
  {
   "metadata": {
    "ExecuteTime": {
     "end_time": "2025-05-24T19:15:28.381667Z",
     "start_time": "2025-05-24T19:15:28.368040Z"
    }
   },
   "cell_type": "code",
   "source": "df = pd.read_csv('staff.csv')",
   "id": "9b6dd20f478996e9",
   "outputs": [],
   "execution_count": 2
  },
  {
   "metadata": {
    "ExecuteTime": {
     "end_time": "2025-05-24T19:15:58.744325Z",
     "start_time": "2025-05-24T19:15:58.710699Z"
    }
   },
   "cell_type": "code",
   "source": "df.head()",
   "id": "49b11a29cdfc73aa",
   "outputs": [
    {
     "data": {
      "text/plain": [
       "   staff_id first_name last_name  address_id  \\\n",
       "0         1       Mike   Hillyer           3   \n",
       "1         2        Jon  Stephens           4   \n",
       "\n",
       "                                             picture  \\\n",
       "0  b'\\x89PNG\\r\\n\\x1a\\n\\x00\\x00\\x00\\rIHDR\\x00\\x00\\...   \n",
       "1                                                NaN   \n",
       "\n",
       "                          email  store_id  active username  \\\n",
       "0  Mike.Hillyer@sakilastaff.com         1       1     Mike   \n",
       "1  Jon.Stephens@sakilastaff.com         2       1      Jon   \n",
       "\n",
       "                                   password          last_update  \n",
       "0  8cb2237d0679ca88db6464eac60da96345513964  2006-02-15 03:57:16  \n",
       "1                                       NaN  2006-02-15 03:57:16  "
      ],
      "text/html": [
       "<div>\n",
       "<style scoped>\n",
       "    .dataframe tbody tr th:only-of-type {\n",
       "        vertical-align: middle;\n",
       "    }\n",
       "\n",
       "    .dataframe tbody tr th {\n",
       "        vertical-align: top;\n",
       "    }\n",
       "\n",
       "    .dataframe thead th {\n",
       "        text-align: right;\n",
       "    }\n",
       "</style>\n",
       "<table border=\"1\" class=\"dataframe\">\n",
       "  <thead>\n",
       "    <tr style=\"text-align: right;\">\n",
       "      <th></th>\n",
       "      <th>staff_id</th>\n",
       "      <th>first_name</th>\n",
       "      <th>last_name</th>\n",
       "      <th>address_id</th>\n",
       "      <th>picture</th>\n",
       "      <th>email</th>\n",
       "      <th>store_id</th>\n",
       "      <th>active</th>\n",
       "      <th>username</th>\n",
       "      <th>password</th>\n",
       "      <th>last_update</th>\n",
       "    </tr>\n",
       "  </thead>\n",
       "  <tbody>\n",
       "    <tr>\n",
       "      <th>0</th>\n",
       "      <td>1</td>\n",
       "      <td>Mike</td>\n",
       "      <td>Hillyer</td>\n",
       "      <td>3</td>\n",
       "      <td>b'\\x89PNG\\r\\n\\x1a\\n\\x00\\x00\\x00\\rIHDR\\x00\\x00\\...</td>\n",
       "      <td>Mike.Hillyer@sakilastaff.com</td>\n",
       "      <td>1</td>\n",
       "      <td>1</td>\n",
       "      <td>Mike</td>\n",
       "      <td>8cb2237d0679ca88db6464eac60da96345513964</td>\n",
       "      <td>2006-02-15 03:57:16</td>\n",
       "    </tr>\n",
       "    <tr>\n",
       "      <th>1</th>\n",
       "      <td>2</td>\n",
       "      <td>Jon</td>\n",
       "      <td>Stephens</td>\n",
       "      <td>4</td>\n",
       "      <td>NaN</td>\n",
       "      <td>Jon.Stephens@sakilastaff.com</td>\n",
       "      <td>2</td>\n",
       "      <td>1</td>\n",
       "      <td>Jon</td>\n",
       "      <td>NaN</td>\n",
       "      <td>2006-02-15 03:57:16</td>\n",
       "    </tr>\n",
       "  </tbody>\n",
       "</table>\n",
       "</div>"
      ]
     },
     "execution_count": 3,
     "metadata": {},
     "output_type": "execute_result"
    }
   ],
   "execution_count": 3
  },
  {
   "metadata": {
    "ExecuteTime": {
     "end_time": "2025-05-24T19:17:10.166450Z",
     "start_time": "2025-05-24T19:17:10.145567Z"
    }
   },
   "cell_type": "code",
   "source": "df.duplicated()",
   "id": "60da0879c0f5fd64",
   "outputs": [
    {
     "data": {
      "text/plain": [
       "0    False\n",
       "1    False\n",
       "dtype: bool"
      ]
     },
     "execution_count": 4,
     "metadata": {},
     "output_type": "execute_result"
    }
   ],
   "execution_count": 4
  },
  {
   "metadata": {
    "ExecuteTime": {
     "end_time": "2025-05-24T19:18:45.185134Z",
     "start_time": "2025-05-24T19:18:45.168866Z"
    }
   },
   "cell_type": "code",
   "source": [
    "df[df.duplicated()]\n",
    "df.drop_duplicates(inplace=True)"
   ],
   "id": "d8e46d56ce009bf2",
   "outputs": [],
   "execution_count": 5
  },
  {
   "metadata": {
    "ExecuteTime": {
     "end_time": "2025-05-24T19:52:03.857561Z",
     "start_time": "2025-05-24T19:52:03.745385Z"
    }
   },
   "cell_type": "code",
   "source": [
    "# تعريف الاتصال\n",
    "conn = mysql.connector.connect(\n",
    "    host='localhost',\n",
    "    user='root',\n",
    "    password='Basel00272727$',   # ← غيّرها إلى كلمة مرورك الحقيقية\n",
    "    database='sakila'    # ← غيّرها إلى اسم قاعدة بياناتك\n",
    ")\n",
    "\n",
    "cursor = conn.cursor()\n",
    "\n",
    "# تنفيذ أمر لفحص جدول dim_staff\n",
    "cursor.execute(\"DESCRIBE dim_staff;\")\n",
    "for row in cursor.fetchall():\n",
    "    print(row)\n",
    "\n",
    "# إغلاق الاتصال\n",
    "cursor.close()\n",
    "conn.close()\n"
   ],
   "id": "1c8624967de38c5a",
   "outputs": [
    {
     "name": "stdout",
     "output_type": "stream",
     "text": [
      "('staff_id', 'int', 'NO', 'PRI', None, '')\n",
      "('first_name', 'varchar(45)', 'YES', '', None, '')\n",
      "('last_name', 'varchar(45)', 'YES', '', None, '')\n",
      "('email', 'varchar(100)', 'YES', '', None, '')\n",
      "('store_id', 'int', 'YES', 'MUL', None, '')\n"
     ]
    }
   ],
   "execution_count": 6
  },
  {
   "metadata": {
    "ExecuteTime": {
     "end_time": "2025-05-26T16:03:32.712113Z",
     "start_time": "2025-05-26T16:03:32.056366Z"
    }
   },
   "cell_type": "code",
   "source": [
    "import pandas as pd\n",
    "\n",
    "# 1️⃣ تحميل الملف\n",
    "df = pd.read_csv(\"staff.csv\")\n",
    "\n",
    "# 2️⃣ اختيار الأعمدة المطلوبة فقط\n",
    "df = df[['staff_id', 'first_name', 'last_name', 'email', 'store_id']]\n",
    "\n",
    "# 3️⃣ حذف الصفوف التي لا تحتوي على staff_id\n",
    "df = df.dropna(subset=['staff_id'])\n",
    "\n",
    "# 4️⃣ حذف الصفوف التي لا تحتوي على first_name\n",
    "df = df.dropna(subset=['first_name'])\n",
    "\n",
    "# 5️⃣ حذف الصفوف التي لا تحتوي على store_id\n",
    "df = df.dropna(subset=['store_id'])\n",
    "\n",
    "# 6️⃣ حذف الصفوف ذات الإيميلات المكررة\n",
    "df = df.dropna(subset=['email'])           # أولاً، نحذف الصفوف التي لا تحتوي على إيميل\n",
    "df = df.drop_duplicates(subset=['email'])  # ثم نحذف الصفوف ذات الإيميلات المكررة\n",
    "\n",
    "# ✅ الآن df يحتوي فقط على الصفوف النظيفة والمتوافقة مع شروطك\n",
    "print(\"✅ تم تنظيف البيانات. الشكل النهائي:\")\n",
    "print(df.head())\n"
   ],
   "id": "bdc6bd92b5dca0a3",
   "outputs": [
    {
     "name": "stdout",
     "output_type": "stream",
     "text": [
      "✅ تم تنظيف البيانات. الشكل النهائي:\n",
      "   staff_id first_name last_name                         email  store_id\n",
      "0         1       Mike   Hillyer  Mike.Hillyer@sakilastaff.com         1\n",
      "1         2        Jon  Stephens  Jon.Stephens@sakilastaff.com         2\n"
     ]
    }
   ],
   "execution_count": 1
  },
  {
   "metadata": {
    "ExecuteTime": {
     "end_time": "2025-05-26T16:06:17.724433Z",
     "start_time": "2025-05-26T16:06:17.694729Z"
    }
   },
   "cell_type": "code",
   "source": "df.to_sql(name='dim_staff', con=engine, if_exists='append', index=False)",
   "id": "a025eea541fe3e7d",
   "outputs": [
    {
     "data": {
      "text/plain": [
       "2"
      ]
     },
     "execution_count": 8,
     "metadata": {},
     "output_type": "execute_result"
    }
   ],
   "execution_count": 8
  },
  {
   "metadata": {
    "ExecuteTime": {
     "end_time": "2025-05-27T08:40:02.175673Z",
     "start_time": "2025-05-27T08:40:00.870138Z"
    }
   },
   "cell_type": "code",
   "source": [
    "import pandas as pd\n",
    "\n",
    "# إنشاء DataFrame يحتوي على بيانات نظيفة وبيانات غير نظيفة\n",
    "data = [\n",
    "    [1, \"John\", \"Doe\", 101, \"pic1.jpg\", \"john.doe@example.com\", 1, 1, \"jdoe\", \"pass123\", \"2023-05-01 12:00:00\"],\n",
    "    \n",
    "    [2, \"Anna\", \"Smith\", 102, \"pic2.jpg\", \"anna.smith@example.com\", 2, 1, \"asmith\", \"abc123\", \"2023-05-02 13:30:00\"],\n",
    "    \n",
    "    # noisy  store_id\n",
    "    [3, \"Ali\", \"Khan\", 103, \"pic3.jpg\", \"ali.khan@example.com\", None, 1, \"akhan\", \"xyz789\", \"2023-05-03 11:00:00\"],\n",
    "    \n",
    "    # noisy first_name\n",
    "    [4, None, \"Lee\", 104, \"pic4.jpg\", \"lee@example.com\", 1, 1, \"lee1\", \"lee123\", \"2023-05-04 10:45:00\"],\n",
    "    \n",
    "    # noisy\n",
    "    [5, \"Maria\", \"Garcia\", 105, \"pic5.jpg\", \"john.doe@example.com\", 2, 0, \"mgarcia\", \"maria321\", \"2023-05-05 09:15:00\"]\n",
    "]\n",
    "\n",
    "columns = [\n",
    "    'staff_id', 'first_name', 'last_name', 'address_id', 'picture', 'email',\n",
    "    'store_id', 'active', 'username', 'password', 'last_update'\n",
    "]\n",
    "\n",
    "# إنشاء DataFrame\n",
    "df = pd.DataFrame(data, columns=columns)\n",
    "\n",
    "# حفظه بصيغة CSV\n",
    "df.to_csv(\"N_staff.csv\", index=False)\n",
    "\n",
    "print(\"N_staff.csv.\")\n"
   ],
   "id": "b4ead014af4ad477",
   "outputs": [
    {
     "name": "stdout",
     "output_type": "stream",
     "text": [
      "N_staff.csv.\n"
     ]
    }
   ],
   "execution_count": 1
  },
  {
   "metadata": {
    "ExecuteTime": {
     "end_time": "2025-05-27T08:41:04.967368Z",
     "start_time": "2025-05-27T08:41:04.931704Z"
    }
   },
   "cell_type": "code",
   "source": "df = pd.read_csv('N_staff.csv')",
   "id": "e95e93c1350ee80d",
   "outputs": [],
   "execution_count": 5
  },
  {
   "metadata": {
    "ExecuteTime": {
     "end_time": "2025-05-27T08:41:18.985672Z",
     "start_time": "2025-05-27T08:41:18.948374Z"
    }
   },
   "cell_type": "code",
   "source": "df.head()",
   "id": "64eda8166aa83e6b",
   "outputs": [
    {
     "data": {
      "text/plain": [
       "   staff_id first_name last_name  address_id   picture  \\\n",
       "0         1       John       Doe         101  pic1.jpg   \n",
       "1         2       Anna     Smith         102  pic2.jpg   \n",
       "2         3        Ali      Khan         103  pic3.jpg   \n",
       "3         4        NaN       Lee         104  pic4.jpg   \n",
       "4         5      Maria    Garcia         105  pic5.jpg   \n",
       "\n",
       "                    email  store_id  active username  password  \\\n",
       "0    john.doe@example.com       1.0       1     jdoe   pass123   \n",
       "1  anna.smith@example.com       2.0       1   asmith    abc123   \n",
       "2    ali.khan@example.com       NaN       1    akhan    xyz789   \n",
       "3         lee@example.com       1.0       1     lee1    lee123   \n",
       "4    john.doe@example.com       2.0       0  mgarcia  maria321   \n",
       "\n",
       "           last_update  \n",
       "0  2023-05-01 12:00:00  \n",
       "1  2023-05-02 13:30:00  \n",
       "2  2023-05-03 11:00:00  \n",
       "3  2023-05-04 10:45:00  \n",
       "4  2023-05-05 09:15:00  "
      ],
      "text/html": [
       "<div>\n",
       "<style scoped>\n",
       "    .dataframe tbody tr th:only-of-type {\n",
       "        vertical-align: middle;\n",
       "    }\n",
       "\n",
       "    .dataframe tbody tr th {\n",
       "        vertical-align: top;\n",
       "    }\n",
       "\n",
       "    .dataframe thead th {\n",
       "        text-align: right;\n",
       "    }\n",
       "</style>\n",
       "<table border=\"1\" class=\"dataframe\">\n",
       "  <thead>\n",
       "    <tr style=\"text-align: right;\">\n",
       "      <th></th>\n",
       "      <th>staff_id</th>\n",
       "      <th>first_name</th>\n",
       "      <th>last_name</th>\n",
       "      <th>address_id</th>\n",
       "      <th>picture</th>\n",
       "      <th>email</th>\n",
       "      <th>store_id</th>\n",
       "      <th>active</th>\n",
       "      <th>username</th>\n",
       "      <th>password</th>\n",
       "      <th>last_update</th>\n",
       "    </tr>\n",
       "  </thead>\n",
       "  <tbody>\n",
       "    <tr>\n",
       "      <th>0</th>\n",
       "      <td>1</td>\n",
       "      <td>John</td>\n",
       "      <td>Doe</td>\n",
       "      <td>101</td>\n",
       "      <td>pic1.jpg</td>\n",
       "      <td>john.doe@example.com</td>\n",
       "      <td>1.0</td>\n",
       "      <td>1</td>\n",
       "      <td>jdoe</td>\n",
       "      <td>pass123</td>\n",
       "      <td>2023-05-01 12:00:00</td>\n",
       "    </tr>\n",
       "    <tr>\n",
       "      <th>1</th>\n",
       "      <td>2</td>\n",
       "      <td>Anna</td>\n",
       "      <td>Smith</td>\n",
       "      <td>102</td>\n",
       "      <td>pic2.jpg</td>\n",
       "      <td>anna.smith@example.com</td>\n",
       "      <td>2.0</td>\n",
       "      <td>1</td>\n",
       "      <td>asmith</td>\n",
       "      <td>abc123</td>\n",
       "      <td>2023-05-02 13:30:00</td>\n",
       "    </tr>\n",
       "    <tr>\n",
       "      <th>2</th>\n",
       "      <td>3</td>\n",
       "      <td>Ali</td>\n",
       "      <td>Khan</td>\n",
       "      <td>103</td>\n",
       "      <td>pic3.jpg</td>\n",
       "      <td>ali.khan@example.com</td>\n",
       "      <td>NaN</td>\n",
       "      <td>1</td>\n",
       "      <td>akhan</td>\n",
       "      <td>xyz789</td>\n",
       "      <td>2023-05-03 11:00:00</td>\n",
       "    </tr>\n",
       "    <tr>\n",
       "      <th>3</th>\n",
       "      <td>4</td>\n",
       "      <td>NaN</td>\n",
       "      <td>Lee</td>\n",
       "      <td>104</td>\n",
       "      <td>pic4.jpg</td>\n",
       "      <td>lee@example.com</td>\n",
       "      <td>1.0</td>\n",
       "      <td>1</td>\n",
       "      <td>lee1</td>\n",
       "      <td>lee123</td>\n",
       "      <td>2023-05-04 10:45:00</td>\n",
       "    </tr>\n",
       "    <tr>\n",
       "      <th>4</th>\n",
       "      <td>5</td>\n",
       "      <td>Maria</td>\n",
       "      <td>Garcia</td>\n",
       "      <td>105</td>\n",
       "      <td>pic5.jpg</td>\n",
       "      <td>john.doe@example.com</td>\n",
       "      <td>2.0</td>\n",
       "      <td>0</td>\n",
       "      <td>mgarcia</td>\n",
       "      <td>maria321</td>\n",
       "      <td>2023-05-05 09:15:00</td>\n",
       "    </tr>\n",
       "  </tbody>\n",
       "</table>\n",
       "</div>"
      ]
     },
     "execution_count": 6,
     "metadata": {},
     "output_type": "execute_result"
    }
   ],
   "execution_count": 6
  },
  {
   "metadata": {
    "ExecuteTime": {
     "end_time": "2025-05-27T08:41:52.146364Z",
     "start_time": "2025-05-27T08:41:52.125109Z"
    }
   },
   "cell_type": "code",
   "source": "df.duplicated()",
   "id": "77788fbe70bac4fa",
   "outputs": [
    {
     "data": {
      "text/plain": [
       "0    False\n",
       "1    False\n",
       "2    False\n",
       "3    False\n",
       "4    False\n",
       "dtype: bool"
      ]
     },
     "execution_count": 7,
     "metadata": {},
     "output_type": "execute_result"
    }
   ],
   "execution_count": 7
  },
  {
   "metadata": {
    "ExecuteTime": {
     "end_time": "2025-05-27T08:41:58.553798Z",
     "start_time": "2025-05-27T08:41:58.517657Z"
    }
   },
   "cell_type": "code",
   "source": [
    "df[df.duplicated()]\n",
    "df.drop_duplicates(inplace=True)"
   ],
   "id": "5c50c8eb53f920f6",
   "outputs": [],
   "execution_count": 8
  },
  {
   "metadata": {
    "ExecuteTime": {
     "end_time": "2025-05-27T08:53:04.123398Z",
     "start_time": "2025-05-27T08:53:04.061580Z"
    }
   },
   "cell_type": "code",
   "source": [
    "# 1️⃣ تحميل الملف\n",
    "df = pd.read_csv(\"N_staff.csv\")\n",
    "\n",
    "# 2️⃣ اختيار الأعمدة المطلوبة فقط (نتجاهل staff_id في الملف)\n",
    "df = df[['first_name', 'last_name', 'email', 'store_id']]\n",
    "\n",
    "# 3️⃣ حذف الصفوف التي لا تحتوي على first_name\n",
    "df = df.dropna(subset=['first_name'])\n",
    "\n",
    "# 4️⃣ حذف الصفوف التي لا تحتوي على store_id\n",
    "df = df.dropna(subset=['store_id'])\n",
    "\n",
    "# 5️⃣ حذف الصفوف التي لا تحتوي على email\n",
    "df = df.dropna(subset=['email'])\n",
    "\n",
    "# 6️⃣ حذف الصفوف ذات الإيميلات المكررة\n",
    "df = df.drop_duplicates(subset=['email'])\n",
    "\n",
    "# 7️⃣ جلب آخر staff_id في الجدول\n",
    "query = \"SELECT MAX(staff_id) as max_id FROM dim_staff\"\n",
    "max_id_df = pd.read_sql(query, con=engine)\n",
    "start_id = max_id_df['max_id'].iloc[0] or 0  # إذا كان الجدول فارغًا نبدأ من 0\n",
    "\n",
    "# 8️⃣ توليد staff_id جديد يبدأ من آخر قيمة + 1\n",
    "df.insert(0, 'staff_id', range(start_id + 1, start_id + 1 + len(df)))\n",
    "\n",
    "df.head()"
   ],
   "id": "469713a230b84920",
   "outputs": [
    {
     "data": {
      "text/plain": [
       "   staff_id first_name last_name                   email  store_id\n",
       "0         3       John       Doe    john.doe@example.com       1.0\n",
       "1         4       Anna     Smith  anna.smith@example.com       2.0"
      ],
      "text/html": [
       "<div>\n",
       "<style scoped>\n",
       "    .dataframe tbody tr th:only-of-type {\n",
       "        vertical-align: middle;\n",
       "    }\n",
       "\n",
       "    .dataframe tbody tr th {\n",
       "        vertical-align: top;\n",
       "    }\n",
       "\n",
       "    .dataframe thead th {\n",
       "        text-align: right;\n",
       "    }\n",
       "</style>\n",
       "<table border=\"1\" class=\"dataframe\">\n",
       "  <thead>\n",
       "    <tr style=\"text-align: right;\">\n",
       "      <th></th>\n",
       "      <th>staff_id</th>\n",
       "      <th>first_name</th>\n",
       "      <th>last_name</th>\n",
       "      <th>email</th>\n",
       "      <th>store_id</th>\n",
       "    </tr>\n",
       "  </thead>\n",
       "  <tbody>\n",
       "    <tr>\n",
       "      <th>0</th>\n",
       "      <td>3</td>\n",
       "      <td>John</td>\n",
       "      <td>Doe</td>\n",
       "      <td>john.doe@example.com</td>\n",
       "      <td>1.0</td>\n",
       "    </tr>\n",
       "    <tr>\n",
       "      <th>1</th>\n",
       "      <td>4</td>\n",
       "      <td>Anna</td>\n",
       "      <td>Smith</td>\n",
       "      <td>anna.smith@example.com</td>\n",
       "      <td>2.0</td>\n",
       "    </tr>\n",
       "  </tbody>\n",
       "</table>\n",
       "</div>"
      ]
     },
     "execution_count": 17,
     "metadata": {},
     "output_type": "execute_result"
    }
   ],
   "execution_count": 17
  },
  {
   "metadata": {
    "ExecuteTime": {
     "end_time": "2025-05-27T08:53:09.607070Z",
     "start_time": "2025-05-27T08:53:09.559351Z"
    }
   },
   "cell_type": "code",
   "source": "df.to_sql(name='dim_staff', con=engine, if_exists='append', index=False)",
   "id": "ae3fe36bcd17e4c4",
   "outputs": [
    {
     "data": {
      "text/plain": [
       "2"
      ]
     },
     "execution_count": 18,
     "metadata": {},
     "output_type": "execute_result"
    }
   ],
   "execution_count": 18
  },
  {
   "metadata": {},
   "cell_type": "code",
   "outputs": [],
   "execution_count": null,
   "source": "",
   "id": "dc19857f5be64cd2"
  }
 ],
 "metadata": {
  "kernelspec": {
   "display_name": "Python 3",
   "language": "python",
   "name": "python3"
  },
  "language_info": {
   "codemirror_mode": {
    "name": "ipython",
    "version": 2
   },
   "file_extension": ".py",
   "mimetype": "text/x-python",
   "name": "python",
   "nbconvert_exporter": "python",
   "pygments_lexer": "ipython2",
   "version": "2.7.6"
  }
 },
 "nbformat": 4,
 "nbformat_minor": 5
}

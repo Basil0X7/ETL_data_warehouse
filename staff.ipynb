{
 "cells": [
  {
   "cell_type": "code",
   "id": "initial_id",
   "metadata": {
    "collapsed": true,
    "ExecuteTime": {
     "end_time": "2025-05-24T19:15:20.799614Z",
     "start_time": "2025-05-24T19:15:20.228230Z"
    }
   },
   "source": "import pandas as pd",
   "outputs": [],
   "execution_count": 1
  },
  {
   "metadata": {
    "ExecuteTime": {
     "end_time": "2025-05-24T19:15:28.381667Z",
     "start_time": "2025-05-24T19:15:28.368040Z"
    }
   },
   "cell_type": "code",
   "source": "df = pd.read_csv('staff.csv')",
   "id": "9b6dd20f478996e9",
   "outputs": [],
   "execution_count": 2
  },
  {
   "metadata": {
    "ExecuteTime": {
     "end_time": "2025-05-24T19:15:58.744325Z",
     "start_time": "2025-05-24T19:15:58.710699Z"
    }
   },
   "cell_type": "code",
   "source": "df.head()",
   "id": "49b11a29cdfc73aa",
   "outputs": [
    {
     "data": {
      "text/plain": [
       "   staff_id first_name last_name  address_id  \\\n",
       "0         1       Mike   Hillyer           3   \n",
       "1         2        Jon  Stephens           4   \n",
       "\n",
       "                                             picture  \\\n",
       "0  b'\\x89PNG\\r\\n\\x1a\\n\\x00\\x00\\x00\\rIHDR\\x00\\x00\\...   \n",
       "1                                                NaN   \n",
       "\n",
       "                          email  store_id  active username  \\\n",
       "0  Mike.Hillyer@sakilastaff.com         1       1     Mike   \n",
       "1  Jon.Stephens@sakilastaff.com         2       1      Jon   \n",
       "\n",
       "                                   password          last_update  \n",
       "0  8cb2237d0679ca88db6464eac60da96345513964  2006-02-15 03:57:16  \n",
       "1                                       NaN  2006-02-15 03:57:16  "
      ],
      "text/html": [
       "<div>\n",
       "<style scoped>\n",
       "    .dataframe tbody tr th:only-of-type {\n",
       "        vertical-align: middle;\n",
       "    }\n",
       "\n",
       "    .dataframe tbody tr th {\n",
       "        vertical-align: top;\n",
       "    }\n",
       "\n",
       "    .dataframe thead th {\n",
       "        text-align: right;\n",
       "    }\n",
       "</style>\n",
       "<table border=\"1\" class=\"dataframe\">\n",
       "  <thead>\n",
       "    <tr style=\"text-align: right;\">\n",
       "      <th></th>\n",
       "      <th>staff_id</th>\n",
       "      <th>first_name</th>\n",
       "      <th>last_name</th>\n",
       "      <th>address_id</th>\n",
       "      <th>picture</th>\n",
       "      <th>email</th>\n",
       "      <th>store_id</th>\n",
       "      <th>active</th>\n",
       "      <th>username</th>\n",
       "      <th>password</th>\n",
       "      <th>last_update</th>\n",
       "    </tr>\n",
       "  </thead>\n",
       "  <tbody>\n",
       "    <tr>\n",
       "      <th>0</th>\n",
       "      <td>1</td>\n",
       "      <td>Mike</td>\n",
       "      <td>Hillyer</td>\n",
       "      <td>3</td>\n",
       "      <td>b'\\x89PNG\\r\\n\\x1a\\n\\x00\\x00\\x00\\rIHDR\\x00\\x00\\...</td>\n",
       "      <td>Mike.Hillyer@sakilastaff.com</td>\n",
       "      <td>1</td>\n",
       "      <td>1</td>\n",
       "      <td>Mike</td>\n",
       "      <td>8cb2237d0679ca88db6464eac60da96345513964</td>\n",
       "      <td>2006-02-15 03:57:16</td>\n",
       "    </tr>\n",
       "    <tr>\n",
       "      <th>1</th>\n",
       "      <td>2</td>\n",
       "      <td>Jon</td>\n",
       "      <td>Stephens</td>\n",
       "      <td>4</td>\n",
       "      <td>NaN</td>\n",
       "      <td>Jon.Stephens@sakilastaff.com</td>\n",
       "      <td>2</td>\n",
       "      <td>1</td>\n",
       "      <td>Jon</td>\n",
       "      <td>NaN</td>\n",
       "      <td>2006-02-15 03:57:16</td>\n",
       "    </tr>\n",
       "  </tbody>\n",
       "</table>\n",
       "</div>"
      ]
     },
     "execution_count": 3,
     "metadata": {},
     "output_type": "execute_result"
    }
   ],
   "execution_count": 3
  },
  {
   "metadata": {
    "ExecuteTime": {
     "end_time": "2025-05-24T19:17:10.166450Z",
     "start_time": "2025-05-24T19:17:10.145567Z"
    }
   },
   "cell_type": "code",
   "source": "df.duplicated()",
   "id": "60da0879c0f5fd64",
   "outputs": [
    {
     "data": {
      "text/plain": [
       "0    False\n",
       "1    False\n",
       "dtype: bool"
      ]
     },
     "execution_count": 4,
     "metadata": {},
     "output_type": "execute_result"
    }
   ],
   "execution_count": 4
  },
  {
   "metadata": {
    "ExecuteTime": {
     "end_time": "2025-05-24T19:18:45.185134Z",
     "start_time": "2025-05-24T19:18:45.168866Z"
    }
   },
   "cell_type": "code",
   "source": [
    "df[df.duplicated()]\n",
    "df.drop_duplicates(inplace=True)"
   ],
   "id": "d8e46d56ce009bf2",
   "outputs": [],
   "execution_count": 5
  },
  {
   "metadata": {},
   "cell_type": "code",
   "outputs": [],
   "execution_count": null,
   "source": "",
   "id": "1c8624967de38c5a"
  }
 ],
 "metadata": {
  "kernelspec": {
   "display_name": "Python 3",
   "language": "python",
   "name": "python3"
  },
  "language_info": {
   "codemirror_mode": {
    "name": "ipython",
    "version": 2
   },
   "file_extension": ".py",
   "mimetype": "text/x-python",
   "name": "python",
   "nbconvert_exporter": "python",
   "pygments_lexer": "ipython2",
   "version": "2.7.6"
  }
 },
 "nbformat": 4,
 "nbformat_minor": 5
}

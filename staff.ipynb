{
 "cells": [
  {
   "cell_type": "code",
   "id": "initial_id",
   "metadata": {
    "collapsed": true,
    "ExecuteTime": {
     "end_time": "2025-05-26T16:05:17.913753Z",
     "start_time": "2025-05-26T16:05:17.553636Z"
    }
   },
   "source": [
    "import pandas as pd;\n",
    "from sqlalchemy import create_engine\n",
    "import mysql.connector"
   ],
   "outputs": [],
   "execution_count": 4
  },
  {
   "metadata": {
    "ExecuteTime": {
     "end_time": "2025-05-26T16:05:18.923939Z",
     "start_time": "2025-05-26T16:05:18.906780Z"
    }
   },
   "cell_type": "code",
   "source": [
    "#step#1 connection string\n",
    "username='root'\n",
    "password='Basel00272727$'\n",
    "host='127.0.0.1'\n",
    "port='3306'\n",
    "databaseName='sakila'\n",
    "\n",
    "#connection string format\n",
    "connectionStr=f\"mysql+pymysql://{username}:{password}@{host}:{port}/{databaseName}\""
   ],
   "id": "e37c1281a935f676",
   "outputs": [],
   "execution_count": 5
  },
  {
   "metadata": {
    "ExecuteTime": {
     "end_time": "2025-05-26T16:05:20.493727Z",
     "start_time": "2025-05-26T16:05:20.400660Z"
    }
   },
   "cell_type": "code",
   "source": "engine=create_engine(connectionStr)",
   "id": "f0c6b064a85e84a8",
   "outputs": [],
   "execution_count": 6
  },
  {
   "metadata": {
    "ExecuteTime": {
     "end_time": "2025-05-24T19:15:28.381667Z",
     "start_time": "2025-05-24T19:15:28.368040Z"
    }
   },
   "cell_type": "code",
   "source": "df = pd.read_csv('staff.csv')",
   "id": "9b6dd20f478996e9",
   "outputs": [],
   "execution_count": 2
  },
  {
   "metadata": {
    "ExecuteTime": {
     "end_time": "2025-05-24T19:15:58.744325Z",
     "start_time": "2025-05-24T19:15:58.710699Z"
    }
   },
   "cell_type": "code",
   "source": "df.head()",
   "id": "49b11a29cdfc73aa",
   "outputs": [
    {
     "data": {
      "text/plain": [
       "   staff_id first_name last_name  address_id  \\\n",
       "0         1       Mike   Hillyer           3   \n",
       "1         2        Jon  Stephens           4   \n",
       "\n",
       "                                             picture  \\\n",
       "0  b'\\x89PNG\\r\\n\\x1a\\n\\x00\\x00\\x00\\rIHDR\\x00\\x00\\...   \n",
       "1                                                NaN   \n",
       "\n",
       "                          email  store_id  active username  \\\n",
       "0  Mike.Hillyer@sakilastaff.com         1       1     Mike   \n",
       "1  Jon.Stephens@sakilastaff.com         2       1      Jon   \n",
       "\n",
       "                                   password          last_update  \n",
       "0  8cb2237d0679ca88db6464eac60da96345513964  2006-02-15 03:57:16  \n",
       "1                                       NaN  2006-02-15 03:57:16  "
      ],
      "text/html": [
       "<div>\n",
       "<style scoped>\n",
       "    .dataframe tbody tr th:only-of-type {\n",
       "        vertical-align: middle;\n",
       "    }\n",
       "\n",
       "    .dataframe tbody tr th {\n",
       "        vertical-align: top;\n",
       "    }\n",
       "\n",
       "    .dataframe thead th {\n",
       "        text-align: right;\n",
       "    }\n",
       "</style>\n",
       "<table border=\"1\" class=\"dataframe\">\n",
       "  <thead>\n",
       "    <tr style=\"text-align: right;\">\n",
       "      <th></th>\n",
       "      <th>staff_id</th>\n",
       "      <th>first_name</th>\n",
       "      <th>last_name</th>\n",
       "      <th>address_id</th>\n",
       "      <th>picture</th>\n",
       "      <th>email</th>\n",
       "      <th>store_id</th>\n",
       "      <th>active</th>\n",
       "      <th>username</th>\n",
       "      <th>password</th>\n",
       "      <th>last_update</th>\n",
       "    </tr>\n",
       "  </thead>\n",
       "  <tbody>\n",
       "    <tr>\n",
       "      <th>0</th>\n",
       "      <td>1</td>\n",
       "      <td>Mike</td>\n",
       "      <td>Hillyer</td>\n",
       "      <td>3</td>\n",
       "      <td>b'\\x89PNG\\r\\n\\x1a\\n\\x00\\x00\\x00\\rIHDR\\x00\\x00\\...</td>\n",
       "      <td>Mike.Hillyer@sakilastaff.com</td>\n",
       "      <td>1</td>\n",
       "      <td>1</td>\n",
       "      <td>Mike</td>\n",
       "      <td>8cb2237d0679ca88db6464eac60da96345513964</td>\n",
       "      <td>2006-02-15 03:57:16</td>\n",
       "    </tr>\n",
       "    <tr>\n",
       "      <th>1</th>\n",
       "      <td>2</td>\n",
       "      <td>Jon</td>\n",
       "      <td>Stephens</td>\n",
       "      <td>4</td>\n",
       "      <td>NaN</td>\n",
       "      <td>Jon.Stephens@sakilastaff.com</td>\n",
       "      <td>2</td>\n",
       "      <td>1</td>\n",
       "      <td>Jon</td>\n",
       "      <td>NaN</td>\n",
       "      <td>2006-02-15 03:57:16</td>\n",
       "    </tr>\n",
       "  </tbody>\n",
       "</table>\n",
       "</div>"
      ]
     },
     "execution_count": 3,
     "metadata": {},
     "output_type": "execute_result"
    }
   ],
   "execution_count": 3
  },
  {
   "metadata": {
    "ExecuteTime": {
     "end_time": "2025-05-24T19:17:10.166450Z",
     "start_time": "2025-05-24T19:17:10.145567Z"
    }
   },
   "cell_type": "code",
   "source": "df.duplicated()",
   "id": "60da0879c0f5fd64",
   "outputs": [
    {
     "data": {
      "text/plain": [
       "0    False\n",
       "1    False\n",
       "dtype: bool"
      ]
     },
     "execution_count": 4,
     "metadata": {},
     "output_type": "execute_result"
    }
   ],
   "execution_count": 4
  },
  {
   "metadata": {
    "ExecuteTime": {
     "end_time": "2025-05-24T19:18:45.185134Z",
     "start_time": "2025-05-24T19:18:45.168866Z"
    }
   },
   "cell_type": "code",
   "source": [
    "df[df.duplicated()]\n",
    "df.drop_duplicates(inplace=True)"
   ],
   "id": "d8e46d56ce009bf2",
   "outputs": [],
   "execution_count": 5
  },
  {
   "metadata": {
    "ExecuteTime": {
     "end_time": "2025-05-24T19:52:03.857561Z",
     "start_time": "2025-05-24T19:52:03.745385Z"
    }
   },
   "cell_type": "code",
   "source": [
    "import mysql.connector  # تأكد أن هذا السطر في الأعلى\n",
    "\n",
    "# تعريف الاتصال\n",
    "conn = mysql.connector.connect(\n",
    "    host='localhost',\n",
    "    user='root',\n",
    "    password='Basel00272727$',   # ← غيّرها إلى كلمة مرورك الحقيقية\n",
    "    database='sakila'    # ← غيّرها إلى اسم قاعدة بياناتك\n",
    ")\n",
    "\n",
    "cursor = conn.cursor()\n",
    "\n",
    "# تنفيذ أمر لفحص جدول dim_staff\n",
    "cursor.execute(\"DESCRIBE dim_staff;\")\n",
    "for row in cursor.fetchall():\n",
    "    print(row)\n",
    "\n",
    "# إغلاق الاتصال\n",
    "cursor.close()\n",
    "conn.close()\n"
   ],
   "id": "1c8624967de38c5a",
   "outputs": [
    {
     "name": "stdout",
     "output_type": "stream",
     "text": [
      "('staff_id', 'int', 'NO', 'PRI', None, '')\n",
      "('first_name', 'varchar(45)', 'YES', '', None, '')\n",
      "('last_name', 'varchar(45)', 'YES', '', None, '')\n",
      "('email', 'varchar(100)', 'YES', '', None, '')\n",
      "('store_id', 'int', 'YES', 'MUL', None, '')\n"
     ]
    }
   ],
   "execution_count": 6
  },
  {
   "metadata": {
    "ExecuteTime": {
     "end_time": "2025-05-26T16:03:32.712113Z",
     "start_time": "2025-05-26T16:03:32.056366Z"
    }
   },
   "cell_type": "code",
   "source": [
    "import pandas as pd\n",
    "\n",
    "# 1️⃣ تحميل الملف\n",
    "df = pd.read_csv(\"staff.csv\")\n",
    "\n",
    "# 2️⃣ اختيار الأعمدة المطلوبة فقط\n",
    "df = df[['staff_id', 'first_name', 'last_name', 'email', 'store_id']]\n",
    "\n",
    "# 3️⃣ حذف الصفوف التي لا تحتوي على staff_id\n",
    "df = df.dropna(subset=['staff_id'])\n",
    "\n",
    "# 4️⃣ حذف الصفوف التي لا تحتوي على first_name\n",
    "df = df.dropna(subset=['first_name'])\n",
    "\n",
    "# 5️⃣ حذف الصفوف التي لا تحتوي على store_id\n",
    "df = df.dropna(subset=['store_id'])\n",
    "\n",
    "# 6️⃣ حذف الصفوف ذات الإيميلات المكررة\n",
    "df = df.dropna(subset=['email'])           # أولاً، نحذف الصفوف التي لا تحتوي على إيميل\n",
    "df = df.drop_duplicates(subset=['email'])  # ثم نحذف الصفوف ذات الإيميلات المكررة\n",
    "\n",
    "# ✅ الآن df يحتوي فقط على الصفوف النظيفة والمتوافقة مع شروطك\n",
    "print(\"✅ تم تنظيف البيانات. الشكل النهائي:\")\n",
    "print(df.head())\n"
   ],
   "id": "bdc6bd92b5dca0a3",
   "outputs": [
    {
     "name": "stdout",
     "output_type": "stream",
     "text": [
      "✅ تم تنظيف البيانات. الشكل النهائي:\n",
      "   staff_id first_name last_name                         email  store_id\n",
      "0         1       Mike   Hillyer  Mike.Hillyer@sakilastaff.com         1\n",
      "1         2        Jon  Stephens  Jon.Stephens@sakilastaff.com         2\n"
     ]
    }
   ],
   "execution_count": 1
  },
  {
   "metadata": {
    "ExecuteTime": {
     "end_time": "2025-05-26T16:06:17.724433Z",
     "start_time": "2025-05-26T16:06:17.694729Z"
    }
   },
   "cell_type": "code",
   "source": "df.to_sql(name='dim_staff', con=engine, if_exists='append', index=False)",
   "id": "a025eea541fe3e7d",
   "outputs": [
    {
     "data": {
      "text/plain": [
       "2"
      ]
     },
     "execution_count": 8,
     "metadata": {},
     "output_type": "execute_result"
    }
   ],
   "execution_count": 8
  },
  {
   "metadata": {},
   "cell_type": "code",
   "outputs": [],
   "execution_count": null,
   "source": "",
   "id": "b4ead014af4ad477"
  }
 ],
 "metadata": {
  "kernelspec": {
   "display_name": "Python 3",
   "language": "python",
   "name": "python3"
  },
  "language_info": {
   "codemirror_mode": {
    "name": "ipython",
    "version": 2
   },
   "file_extension": ".py",
   "mimetype": "text/x-python",
   "name": "python",
   "nbconvert_exporter": "python",
   "pygments_lexer": "ipython2",
   "version": "2.7.6"
  }
 },
 "nbformat": 4,
 "nbformat_minor": 5
}

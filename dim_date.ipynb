{
 "cells": [
  {
   "metadata": {},
   "cell_type": "code",
   "outputs": [],
   "execution_count": null,
   "source": [
    "import mysql.connector\n",
    "import pandas as pd\n",
    "from datetime import datetime, timedelta\n",
    "\n",
    "# 📅 إنشاء قائمة بالتواريخ من 2005-01-01 إلى 2006-12-31\n",
    "start_date = datetime(2005, 1, 1)\n",
    "end_date = datetime(2006, 12, 31)\n",
    "\n",
    "dates = []\n",
    "current = start_date\n",
    "while current <= end_date:\n",
    "    dates.append({\n",
    "        'Full_Date': current.date(),\n",
    "        'Day': current.day,\n",
    "        'Day_Name': current.strftime('%A'),\n",
    "        'Month': current.month,\n",
    "        'Month_Name': current.strftime('%B'),\n",
    "        'Year': current.year\n",
    "    })\n",
    "    current += timedelta(days=1)\n",
    "\n",
    "# تحويلها إلى DataFrame\n",
    "df = pd.DataFrame(dates)\n",
    "\n",
    "# 🔌 الاتصال بقاعدة البيانات\n",
    "conn = mysql.connector.connect(\n",
    "    host='localhost',\n",
    "    user='root',\n",
    "    password='Basel00272727$',  # ← تأكد من صحتها\n",
    "    database='sakila'\n",
    ")\n",
    "cursor = conn.cursor()\n",
    "\n",
    "# 📝 إدخال البيانات إلى dim_date\n",
    "for _, row in df.iterrows():\n",
    "    cursor.execute(\"\"\"\n",
    "        INSERT INTO dim_date (Full_Date, Day, Day_Name, Month, Month_Name, Year)\n",
    "        VALUES (%s, %s, %s, %s, %s, %s)\n",
    "    \"\"\", (\n",
    "        row['Full_Date'],\n",
    "        row['Day'],\n",
    "        row['Day_Name'],\n",
    "        row['Month'],\n",
    "        row['Month_Name'],\n",
    "        row['Year']\n",
    "    ))\n",
    "\n",
    "# ✅ حفظ التغييرات\n",
    "conn.commit()\n",
    "print(\"✅ تم إدخال التواريخ من 2005 إلى 2006 بنجاح.\")\n",
    "\n",
    "# إغلاق الاتصال\n",
    "cursor.close()\n",
    "conn.close()\n"
   ],
   "id": "addc8bd07e4bc2a3"
  }
 ],
 "metadata": {
  "kernelspec": {
   "display_name": "Python 3",
   "language": "python",
   "name": "python3"
  },
  "language_info": {
   "codemirror_mode": {
    "name": "ipython",
    "version": 2
   },
   "file_extension": ".py",
   "mimetype": "text/x-python",
   "name": "python",
   "nbconvert_exporter": "python",
   "pygments_lexer": "ipython2",
   "version": "2.7.6"
  }
 },
 "nbformat": 4,
 "nbformat_minor": 5
}

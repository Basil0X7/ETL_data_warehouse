{
 "cells": [
  {
   "cell_type": "code",
   "id": "initial_id",
   "metadata": {
    "collapsed": true,
    "ExecuteTime": {
     "end_time": "2025-05-26T15:29:33.432650Z",
     "start_time": "2025-05-26T15:29:32.356791Z"
    }
   },
   "source": [
    "import pandas as pd;\n",
    "from sqlalchemy import create_engine\n",
    "import mysql.connector"
   ],
   "outputs": [],
   "execution_count": 2
  },
  {
   "metadata": {
    "ExecuteTime": {
     "end_time": "2025-05-26T15:29:34.128992Z",
     "start_time": "2025-05-26T15:29:34.116775Z"
    }
   },
   "cell_type": "code",
   "source": [
    "#step#1 connection string\n",
    "username='root'\n",
    "password='Basel00272727$'\n",
    "host='127.0.0.1'\n",
    "port='3306'\n",
    "databaseName='sakila'\n",
    "\n",
    "#connection string format\n",
    "connectionStr=f\"mysql+pymysql://{username}:{password}@{host}:{port}/{databaseName}\""
   ],
   "id": "8301e5e440945d9",
   "outputs": [],
   "execution_count": 3
  },
  {
   "metadata": {
    "ExecuteTime": {
     "end_time": "2025-05-26T15:29:43.468550Z",
     "start_time": "2025-05-26T15:29:43.332433Z"
    }
   },
   "cell_type": "code",
   "source": "engine=create_engine(connectionStr)",
   "id": "81517c052ec01bf9",
   "outputs": [],
   "execution_count": 5
  },
  {
   "metadata": {
    "ExecuteTime": {
     "end_time": "2025-05-24T18:14:26.336364Z",
     "start_time": "2025-05-24T18:14:26.331676Z"
    }
   },
   "cell_type": "code",
   "source": "query=\" select * from film limit 100\"",
   "id": "a71871424130a753",
   "outputs": [],
   "execution_count": 20
  },
  {
   "metadata": {
    "ExecuteTime": {
     "end_time": "2025-05-24T18:14:26.800472Z",
     "start_time": "2025-05-24T18:14:26.776317Z"
    }
   },
   "cell_type": "code",
   "source": "df=pd.read_sql(query,con=engine)",
   "id": "4737e9f19a35ad0c",
   "outputs": [],
   "execution_count": 21
  },
  {
   "metadata": {
    "ExecuteTime": {
     "end_time": "2025-05-24T18:14:27.245921Z",
     "start_time": "2025-05-24T18:14:27.222090Z"
    }
   },
   "cell_type": "code",
   "source": "df.head(10)",
   "id": "1795100de54be892",
   "outputs": [
    {
     "data": {
      "text/plain": [
       "   film_id             title  \\\n",
       "0        1  ACADEMY DINOSAUR   \n",
       "1        2    ACE GOLDFINGER   \n",
       "2        3  ADAPTATION HOLES   \n",
       "3        4  AFFAIR PREJUDICE   \n",
       "4        5       AFRICAN EGG   \n",
       "5        6      AGENT TRUMAN   \n",
       "6        7   AIRPLANE SIERRA   \n",
       "7        8   AIRPORT POLLOCK   \n",
       "8        9     ALABAMA DEVIL   \n",
       "9       10  ALADDIN CALENDAR   \n",
       "\n",
       "                                         description  release_year  \\\n",
       "0  A Epic Drama of a Feminist And a Mad Scientist...          2006   \n",
       "1  A Astounding Epistle of a Database Administrat...          2006   \n",
       "2  A Astounding Reflection of a Lumberjack And a ...          2006   \n",
       "3  A Fanciful Documentary of a Frisbee And a Lumb...          2006   \n",
       "4  A Fast-Paced Documentary of a Pastry Chef And ...          2006   \n",
       "5  A Intrepid Panorama of a Robot And a Boy who m...          2006   \n",
       "6  A Touching Saga of a Hunter And a Butler who m...          2006   \n",
       "7  A Epic Tale of a Moose And a Girl who must Con...          2006   \n",
       "8  A Thoughtful Panorama of a Database Administra...          2006   \n",
       "9  A Action-Packed Tale of a Man And a Lumberjack...          2006   \n",
       "\n",
       "   language_id original_language_id  rental_duration  rental_rate  length  \\\n",
       "0            1                 None                6         0.99      86   \n",
       "1            1                 None                3         4.99      48   \n",
       "2            1                 None                7         2.99      50   \n",
       "3            1                 None                5         2.99     117   \n",
       "4            1                 None                6         2.99     130   \n",
       "5            1                 None                3         2.99     169   \n",
       "6            1                 None                6         4.99      62   \n",
       "7            1                 None                6         4.99      54   \n",
       "8            1                 None                3         2.99     114   \n",
       "9            1                 None                6         4.99      63   \n",
       "\n",
       "   replacement_cost rating                  special_features  \\\n",
       "0             20.99     PG  Deleted Scenes,Behind the Scenes   \n",
       "1             12.99      G           Trailers,Deleted Scenes   \n",
       "2             18.99  NC-17           Trailers,Deleted Scenes   \n",
       "3             26.99      G    Commentaries,Behind the Scenes   \n",
       "4             22.99      G                    Deleted Scenes   \n",
       "5             17.99     PG                    Deleted Scenes   \n",
       "6             28.99  PG-13           Trailers,Deleted Scenes   \n",
       "7             15.99      R                          Trailers   \n",
       "8             21.99  PG-13           Trailers,Deleted Scenes   \n",
       "9             24.99  NC-17           Trailers,Deleted Scenes   \n",
       "\n",
       "          last_update  \n",
       "0 2006-02-15 05:03:42  \n",
       "1 2006-02-15 05:03:42  \n",
       "2 2006-02-15 05:03:42  \n",
       "3 2006-02-15 05:03:42  \n",
       "4 2006-02-15 05:03:42  \n",
       "5 2006-02-15 05:03:42  \n",
       "6 2006-02-15 05:03:42  \n",
       "7 2006-02-15 05:03:42  \n",
       "8 2006-02-15 05:03:42  \n",
       "9 2006-02-15 05:03:42  "
      ],
      "text/html": [
       "<div>\n",
       "<style scoped>\n",
       "    .dataframe tbody tr th:only-of-type {\n",
       "        vertical-align: middle;\n",
       "    }\n",
       "\n",
       "    .dataframe tbody tr th {\n",
       "        vertical-align: top;\n",
       "    }\n",
       "\n",
       "    .dataframe thead th {\n",
       "        text-align: right;\n",
       "    }\n",
       "</style>\n",
       "<table border=\"1\" class=\"dataframe\">\n",
       "  <thead>\n",
       "    <tr style=\"text-align: right;\">\n",
       "      <th></th>\n",
       "      <th>film_id</th>\n",
       "      <th>title</th>\n",
       "      <th>description</th>\n",
       "      <th>release_year</th>\n",
       "      <th>language_id</th>\n",
       "      <th>original_language_id</th>\n",
       "      <th>rental_duration</th>\n",
       "      <th>rental_rate</th>\n",
       "      <th>length</th>\n",
       "      <th>replacement_cost</th>\n",
       "      <th>rating</th>\n",
       "      <th>special_features</th>\n",
       "      <th>last_update</th>\n",
       "    </tr>\n",
       "  </thead>\n",
       "  <tbody>\n",
       "    <tr>\n",
       "      <th>0</th>\n",
       "      <td>1</td>\n",
       "      <td>ACADEMY DINOSAUR</td>\n",
       "      <td>A Epic Drama of a Feminist And a Mad Scientist...</td>\n",
       "      <td>2006</td>\n",
       "      <td>1</td>\n",
       "      <td>None</td>\n",
       "      <td>6</td>\n",
       "      <td>0.99</td>\n",
       "      <td>86</td>\n",
       "      <td>20.99</td>\n",
       "      <td>PG</td>\n",
       "      <td>Deleted Scenes,Behind the Scenes</td>\n",
       "      <td>2006-02-15 05:03:42</td>\n",
       "    </tr>\n",
       "    <tr>\n",
       "      <th>1</th>\n",
       "      <td>2</td>\n",
       "      <td>ACE GOLDFINGER</td>\n",
       "      <td>A Astounding Epistle of a Database Administrat...</td>\n",
       "      <td>2006</td>\n",
       "      <td>1</td>\n",
       "      <td>None</td>\n",
       "      <td>3</td>\n",
       "      <td>4.99</td>\n",
       "      <td>48</td>\n",
       "      <td>12.99</td>\n",
       "      <td>G</td>\n",
       "      <td>Trailers,Deleted Scenes</td>\n",
       "      <td>2006-02-15 05:03:42</td>\n",
       "    </tr>\n",
       "    <tr>\n",
       "      <th>2</th>\n",
       "      <td>3</td>\n",
       "      <td>ADAPTATION HOLES</td>\n",
       "      <td>A Astounding Reflection of a Lumberjack And a ...</td>\n",
       "      <td>2006</td>\n",
       "      <td>1</td>\n",
       "      <td>None</td>\n",
       "      <td>7</td>\n",
       "      <td>2.99</td>\n",
       "      <td>50</td>\n",
       "      <td>18.99</td>\n",
       "      <td>NC-17</td>\n",
       "      <td>Trailers,Deleted Scenes</td>\n",
       "      <td>2006-02-15 05:03:42</td>\n",
       "    </tr>\n",
       "    <tr>\n",
       "      <th>3</th>\n",
       "      <td>4</td>\n",
       "      <td>AFFAIR PREJUDICE</td>\n",
       "      <td>A Fanciful Documentary of a Frisbee And a Lumb...</td>\n",
       "      <td>2006</td>\n",
       "      <td>1</td>\n",
       "      <td>None</td>\n",
       "      <td>5</td>\n",
       "      <td>2.99</td>\n",
       "      <td>117</td>\n",
       "      <td>26.99</td>\n",
       "      <td>G</td>\n",
       "      <td>Commentaries,Behind the Scenes</td>\n",
       "      <td>2006-02-15 05:03:42</td>\n",
       "    </tr>\n",
       "    <tr>\n",
       "      <th>4</th>\n",
       "      <td>5</td>\n",
       "      <td>AFRICAN EGG</td>\n",
       "      <td>A Fast-Paced Documentary of a Pastry Chef And ...</td>\n",
       "      <td>2006</td>\n",
       "      <td>1</td>\n",
       "      <td>None</td>\n",
       "      <td>6</td>\n",
       "      <td>2.99</td>\n",
       "      <td>130</td>\n",
       "      <td>22.99</td>\n",
       "      <td>G</td>\n",
       "      <td>Deleted Scenes</td>\n",
       "      <td>2006-02-15 05:03:42</td>\n",
       "    </tr>\n",
       "    <tr>\n",
       "      <th>5</th>\n",
       "      <td>6</td>\n",
       "      <td>AGENT TRUMAN</td>\n",
       "      <td>A Intrepid Panorama of a Robot And a Boy who m...</td>\n",
       "      <td>2006</td>\n",
       "      <td>1</td>\n",
       "      <td>None</td>\n",
       "      <td>3</td>\n",
       "      <td>2.99</td>\n",
       "      <td>169</td>\n",
       "      <td>17.99</td>\n",
       "      <td>PG</td>\n",
       "      <td>Deleted Scenes</td>\n",
       "      <td>2006-02-15 05:03:42</td>\n",
       "    </tr>\n",
       "    <tr>\n",
       "      <th>6</th>\n",
       "      <td>7</td>\n",
       "      <td>AIRPLANE SIERRA</td>\n",
       "      <td>A Touching Saga of a Hunter And a Butler who m...</td>\n",
       "      <td>2006</td>\n",
       "      <td>1</td>\n",
       "      <td>None</td>\n",
       "      <td>6</td>\n",
       "      <td>4.99</td>\n",
       "      <td>62</td>\n",
       "      <td>28.99</td>\n",
       "      <td>PG-13</td>\n",
       "      <td>Trailers,Deleted Scenes</td>\n",
       "      <td>2006-02-15 05:03:42</td>\n",
       "    </tr>\n",
       "    <tr>\n",
       "      <th>7</th>\n",
       "      <td>8</td>\n",
       "      <td>AIRPORT POLLOCK</td>\n",
       "      <td>A Epic Tale of a Moose And a Girl who must Con...</td>\n",
       "      <td>2006</td>\n",
       "      <td>1</td>\n",
       "      <td>None</td>\n",
       "      <td>6</td>\n",
       "      <td>4.99</td>\n",
       "      <td>54</td>\n",
       "      <td>15.99</td>\n",
       "      <td>R</td>\n",
       "      <td>Trailers</td>\n",
       "      <td>2006-02-15 05:03:42</td>\n",
       "    </tr>\n",
       "    <tr>\n",
       "      <th>8</th>\n",
       "      <td>9</td>\n",
       "      <td>ALABAMA DEVIL</td>\n",
       "      <td>A Thoughtful Panorama of a Database Administra...</td>\n",
       "      <td>2006</td>\n",
       "      <td>1</td>\n",
       "      <td>None</td>\n",
       "      <td>3</td>\n",
       "      <td>2.99</td>\n",
       "      <td>114</td>\n",
       "      <td>21.99</td>\n",
       "      <td>PG-13</td>\n",
       "      <td>Trailers,Deleted Scenes</td>\n",
       "      <td>2006-02-15 05:03:42</td>\n",
       "    </tr>\n",
       "    <tr>\n",
       "      <th>9</th>\n",
       "      <td>10</td>\n",
       "      <td>ALADDIN CALENDAR</td>\n",
       "      <td>A Action-Packed Tale of a Man And a Lumberjack...</td>\n",
       "      <td>2006</td>\n",
       "      <td>1</td>\n",
       "      <td>None</td>\n",
       "      <td>6</td>\n",
       "      <td>4.99</td>\n",
       "      <td>63</td>\n",
       "      <td>24.99</td>\n",
       "      <td>NC-17</td>\n",
       "      <td>Trailers,Deleted Scenes</td>\n",
       "      <td>2006-02-15 05:03:42</td>\n",
       "    </tr>\n",
       "  </tbody>\n",
       "</table>\n",
       "</div>"
      ]
     },
     "execution_count": 22,
     "metadata": {},
     "output_type": "execute_result"
    }
   ],
   "execution_count": 22
  },
  {
   "metadata": {
    "ExecuteTime": {
     "end_time": "2025-05-24T18:34:51.976598Z",
     "start_time": "2025-05-24T18:34:51.969389Z"
    }
   },
   "cell_type": "code",
   "source": "query=\" select * from rental\"",
   "id": "af5189a51655c1f2",
   "outputs": [],
   "execution_count": 34
  },
  {
   "metadata": {
    "ExecuteTime": {
     "end_time": "2025-05-24T18:34:53.070390Z",
     "start_time": "2025-05-24T18:34:52.720712Z"
    }
   },
   "cell_type": "code",
   "source": "df=pd.read_sql(query,con=engine)",
   "id": "eed6fc27ea822fdf",
   "outputs": [],
   "execution_count": 35
  },
  {
   "metadata": {
    "ExecuteTime": {
     "end_time": "2025-05-24T18:34:53.703956Z",
     "start_time": "2025-05-24T18:34:53.620944Z"
    }
   },
   "cell_type": "code",
   "source": "df.to_csv('rental.csv', index=False)",
   "id": "5105f8e8c4bd6327",
   "outputs": [],
   "execution_count": 36
  },
  {
   "metadata": {
    "ExecuteTime": {
     "end_time": "2025-05-24T18:34:54.966325Z",
     "start_time": "2025-05-24T18:34:54.945316Z"
    }
   },
   "cell_type": "code",
   "source": [
    "query=\" select * from staff\"\n",
    "df=pd.read_sql(query,con=engine)\n",
    "df.to_csv('staff.csv', index=False)"
   ],
   "id": "edb02b7763a0841a",
   "outputs": [],
   "execution_count": 37
  },
  {
   "metadata": {
    "ExecuteTime": {
     "end_time": "2025-05-26T15:29:47.096439Z",
     "start_time": "2025-05-26T15:29:46.626504Z"
    }
   },
   "cell_type": "code",
   "source": [
    "query=\" select * from payment\"\n",
    "df=pd.read_sql(query,con=engine)\n",
    "df.to_csv('payment.csv', index=False)"
   ],
   "id": "7b1a6a12010ea056",
   "outputs": [],
   "execution_count": 6
  },
  {
   "metadata": {
    "ExecuteTime": {
     "end_time": "2025-05-26T15:35:58.906590Z",
     "start_time": "2025-05-26T15:35:58.893692Z"
    }
   },
   "cell_type": "code",
   "source": [
    "query=\" select * from dim_date limit 100\"\n",
    "df=pd.read_sql(query,con=engine)\n",
    "df.to_csv('dim_date.csv', index=False)"
   ],
   "id": "2a3d4591efe5c80f",
   "outputs": [],
   "execution_count": 7
  },
  {
   "metadata": {
    "ExecuteTime": {
     "end_time": "2025-05-24T19:19:07.618416Z",
     "start_time": "2025-05-24T19:19:07.407961Z"
    }
   },
   "cell_type": "code",
   "source": [
    "cursor = conn.cursor()\n",
    "\n",
    "# فحص بنية جدول dim_staff\n",
    "cursor.execute(\"DESCRIBE dim_staff;\")\n",
    "print(\"📋 dim_staff:\")\n",
    "for row in cursor.fetchall():\n",
    "    print(row)\n",
    "\n",
    "# فحص بنية جدول dim_rent\n",
    "cursor.execute(\"DESCRIBE dim_rent;\")\n",
    "print(\"\\n📋 dim_rent:\")\n",
    "for row in cursor.fetchall():\n",
    "    print(row)\n",
    "\n",
    "cursor.close()\n",
    "conn.close()"
   ],
   "id": "4cbe9e2ed87a35cf",
   "outputs": [
    {
     "ename": "NameError",
     "evalue": "name 'conn' is not defined",
     "output_type": "error",
     "traceback": [
      "\u001B[1;31m---------------------------------------------------------------------------\u001B[0m",
      "\u001B[1;31mNameError\u001B[0m                                 Traceback (most recent call last)",
      "\u001B[1;32m~\\AppData\\Local\\Temp\\ipykernel_3996\\2007577211.py\u001B[0m in \u001B[0;36m<module>\u001B[1;34m\u001B[0m\n\u001B[1;32m----> 1\u001B[1;33m \u001B[0mcursor\u001B[0m \u001B[1;33m=\u001B[0m \u001B[0mconn\u001B[0m\u001B[1;33m.\u001B[0m\u001B[0mcursor\u001B[0m\u001B[1;33m(\u001B[0m\u001B[1;33m)\u001B[0m\u001B[1;33m\u001B[0m\u001B[1;33m\u001B[0m\u001B[0m\n\u001B[0m\u001B[0;32m      2\u001B[0m \u001B[1;33m\u001B[0m\u001B[0m\n\u001B[0;32m      3\u001B[0m \u001B[1;31m# فحص بنية جدول dim_staff\u001B[0m\u001B[1;33m\u001B[0m\u001B[1;33m\u001B[0m\u001B[0m\n\u001B[0;32m      4\u001B[0m \u001B[0mcursor\u001B[0m\u001B[1;33m.\u001B[0m\u001B[0mexecute\u001B[0m\u001B[1;33m(\u001B[0m\u001B[1;34m\"DESCRIBE dim_staff;\"\u001B[0m\u001B[1;33m)\u001B[0m\u001B[1;33m\u001B[0m\u001B[1;33m\u001B[0m\u001B[0m\n\u001B[0;32m      5\u001B[0m \u001B[0mprint\u001B[0m\u001B[1;33m(\u001B[0m\u001B[1;34m\"📋 dim_staff:\"\u001B[0m\u001B[1;33m)\u001B[0m\u001B[1;33m\u001B[0m\u001B[1;33m\u001B[0m\u001B[0m\n",
      "\u001B[1;31mNameError\u001B[0m: name 'conn' is not defined"
     ]
    }
   ],
   "execution_count": 1
  },
  {
   "metadata": {},
   "cell_type": "code",
   "outputs": [],
   "execution_count": null,
   "source": "df.to_sql(name=table_name, con=engine, if_exists='replace', index=False)",
   "id": "4cbd83c74a8c44ea"
  },
  {
   "metadata": {
    "ExecuteTime": {
     "end_time": "2025-05-24T19:51:38.760522Z",
     "start_time": "2025-05-24T19:51:38.676600Z"
    }
   },
   "cell_type": "code",
   "source": [
    "import mysql.connector  # تأكد أن هذا السطر في الأعلى\n",
    "\n",
    "# تعريف الاتصال\n",
    "conn = mysql.connector.connect(\n",
    "    host='localhost',\n",
    "    user='root',\n",
    "    password='Basel00272727$',   # ← غيّرها إلى كلمة مرورك الحقيقية\n",
    "    database='sakila'    # ← غيّرها إلى اسم قاعدة بياناتك\n",
    ")\n",
    "\n",
    "cursor = conn.cursor()\n",
    "\n",
    "# تنفيذ أمر لفحص جدول dim_staff\n",
    "cursor.execute(\"DESCRIBE dim_staff;\")\n",
    "for row in cursor.fetchall():\n",
    "    print(row)\n",
    "\n",
    "# إغلاق الاتصال\n",
    "cursor.close()\n",
    "conn.close()\n"
   ],
   "id": "df63b1a0bac87d6c",
   "outputs": [
    {
     "name": "stdout",
     "output_type": "stream",
     "text": [
      "('staff_id', 'int', 'NO', 'PRI', None, '')\n",
      "('first_name', 'varchar(45)', 'YES', '', None, '')\n",
      "('last_name', 'varchar(45)', 'YES', '', None, '')\n",
      "('email', 'varchar(100)', 'YES', '', None, '')\n",
      "('store_id', 'int', 'YES', 'MUL', None, '')\n"
     ]
    }
   ],
   "execution_count": 3
  },
  {
   "metadata": {},
   "cell_type": "code",
   "outputs": [],
   "execution_count": null,
   "source": "",
   "id": "ab95537680064bc8"
  }
 ],
 "metadata": {
  "kernelspec": {
   "display_name": "Python 3",
   "language": "python",
   "name": "python3"
  },
  "language_info": {
   "codemirror_mode": {
    "name": "ipython",
    "version": 2
   },
   "file_extension": ".py",
   "mimetype": "text/x-python",
   "name": "python",
   "nbconvert_exporter": "python",
   "pygments_lexer": "ipython2",
   "version": "2.7.6"
  }
 },
 "nbformat": 4,
 "nbformat_minor": 5
}
